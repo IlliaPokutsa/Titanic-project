{
 "cells": [
  {
   "cell_type": "code",
   "execution_count": 1,
   "metadata": {
    "_cell_guid": "b1076dfc-b9ad-4769-8c92-a6c4dae69d19",
    "_uuid": "8f2839f25d086af736a60e9eeb907d3b93b6e0e5",
    "execution": {
     "iopub.execute_input": "2020-10-13T09:46:38.282878Z",
     "iopub.status.busy": "2020-10-13T09:46:38.281856Z",
     "iopub.status.idle": "2020-10-13T09:46:38.288123Z",
     "shell.execute_reply": "2020-10-13T09:46:38.287402Z"
    },
    "papermill": {
     "duration": 0.036857,
     "end_time": "2020-10-13T09:46:38.288269",
     "exception": false,
     "start_time": "2020-10-13T09:46:38.251412",
     "status": "completed"
    },
    "tags": []
   },
   "outputs": [
    {
     "name": "stdout",
     "output_type": "stream",
     "text": [
      "/kaggle/input/titanic/gender_submission.csv\n",
      "/kaggle/input/titanic/test.csv\n",
      "/kaggle/input/titanic/train.csv\n"
     ]
    }
   ],
   "source": [
    "# This Python 3 environment comes with many helpful analytics libraries installed\n",
    "# It is defined by the kaggle/python Docker image: https://github.com/kaggle/docker-python\n",
    "# For example, here's several helpful packages to load\n",
    "\n",
    "import numpy as np # linear algebra\n",
    "import pandas as pd # data processing, CSV file I/O (e.g. pd.read_csv)\n",
    "\n",
    "# Input data files are available in the read-only \"../input/\" directory\n",
    "# For example, running this (by clicking run or pressing Shift+Enter) will list all files under the input directory\n",
    "\n",
    "import os\n",
    "for dirname, _, filenames in os.walk('/kaggle/input'):\n",
    "    for filename in filenames:\n",
    "        print(os.path.join(dirname, filename))\n",
    "\n",
    "# You can write up to 5GB to the current directory (/kaggle/working/) that gets preserved as output when you create a version using \"Save & Run All\" \n",
    "# You can also write temporary files to /kaggle/temp/, but they won't be saved outside of the current session"
   ]
  },
  {
   "cell_type": "markdown",
   "metadata": {
    "papermill": {
     "duration": 0.021935,
     "end_time": "2020-10-13T09:46:38.333212",
     "exception": false,
     "start_time": "2020-10-13T09:46:38.311277",
     "status": "completed"
    },
    "tags": []
   },
   "source": [
    "**1. Input our data and than DecisionTreeClassifier:**"
   ]
  },
  {
   "cell_type": "code",
   "execution_count": 2,
   "metadata": {
    "execution": {
     "iopub.execute_input": "2020-10-13T09:46:38.384764Z",
     "iopub.status.busy": "2020-10-13T09:46:38.383863Z",
     "iopub.status.idle": "2020-10-13T09:46:39.781839Z",
     "shell.execute_reply": "2020-10-13T09:46:39.780961Z"
    },
    "papermill": {
     "duration": 1.425086,
     "end_time": "2020-10-13T09:46:39.781994",
     "exception": false,
     "start_time": "2020-10-13T09:46:38.356908",
     "status": "completed"
    },
    "tags": []
   },
   "outputs": [],
   "source": [
    "from sklearn.tree import DecisionTreeClassifier\n"
   ]
  },
  {
   "cell_type": "markdown",
   "metadata": {
    "papermill": {
     "duration": 0.022331,
     "end_time": "2020-10-13T09:46:39.826271",
     "exception": false,
     "start_time": "2020-10-13T09:46:39.803940",
     "status": "completed"
    },
    "tags": []
   },
   "source": [
    "**2. Load our data from .csv files (first 10 rows), and inspect it:**"
   ]
  },
  {
   "cell_type": "code",
   "execution_count": 3,
   "metadata": {
    "execution": {
     "iopub.execute_input": "2020-10-13T09:46:39.877566Z",
     "iopub.status.busy": "2020-10-13T09:46:39.876792Z",
     "iopub.status.idle": "2020-10-13T09:46:39.927750Z",
     "shell.execute_reply": "2020-10-13T09:46:39.926970Z"
    },
    "papermill": {
     "duration": 0.079777,
     "end_time": "2020-10-13T09:46:39.927878",
     "exception": false,
     "start_time": "2020-10-13T09:46:39.848101",
     "status": "completed"
    },
    "tags": []
   },
   "outputs": [
    {
     "data": {
      "text/html": [
       "<div>\n",
       "<style scoped>\n",
       "    .dataframe tbody tr th:only-of-type {\n",
       "        vertical-align: middle;\n",
       "    }\n",
       "\n",
       "    .dataframe tbody tr th {\n",
       "        vertical-align: top;\n",
       "    }\n",
       "\n",
       "    .dataframe thead th {\n",
       "        text-align: right;\n",
       "    }\n",
       "</style>\n",
       "<table border=\"1\" class=\"dataframe\">\n",
       "  <thead>\n",
       "    <tr style=\"text-align: right;\">\n",
       "      <th></th>\n",
       "      <th>PassengerId</th>\n",
       "      <th>Survived</th>\n",
       "      <th>Pclass</th>\n",
       "      <th>Name</th>\n",
       "      <th>Sex</th>\n",
       "      <th>Age</th>\n",
       "      <th>SibSp</th>\n",
       "      <th>Parch</th>\n",
       "      <th>Ticket</th>\n",
       "      <th>Fare</th>\n",
       "      <th>Cabin</th>\n",
       "      <th>Embarked</th>\n",
       "    </tr>\n",
       "  </thead>\n",
       "  <tbody>\n",
       "    <tr>\n",
       "      <th>0</th>\n",
       "      <td>1</td>\n",
       "      <td>0</td>\n",
       "      <td>3</td>\n",
       "      <td>Braund, Mr. Owen Harris</td>\n",
       "      <td>male</td>\n",
       "      <td>22.0</td>\n",
       "      <td>1</td>\n",
       "      <td>0</td>\n",
       "      <td>A/5 21171</td>\n",
       "      <td>7.2500</td>\n",
       "      <td>NaN</td>\n",
       "      <td>S</td>\n",
       "    </tr>\n",
       "    <tr>\n",
       "      <th>1</th>\n",
       "      <td>2</td>\n",
       "      <td>1</td>\n",
       "      <td>1</td>\n",
       "      <td>Cumings, Mrs. John Bradley (Florence Briggs Th...</td>\n",
       "      <td>female</td>\n",
       "      <td>38.0</td>\n",
       "      <td>1</td>\n",
       "      <td>0</td>\n",
       "      <td>PC 17599</td>\n",
       "      <td>71.2833</td>\n",
       "      <td>C85</td>\n",
       "      <td>C</td>\n",
       "    </tr>\n",
       "    <tr>\n",
       "      <th>2</th>\n",
       "      <td>3</td>\n",
       "      <td>1</td>\n",
       "      <td>3</td>\n",
       "      <td>Heikkinen, Miss. Laina</td>\n",
       "      <td>female</td>\n",
       "      <td>26.0</td>\n",
       "      <td>0</td>\n",
       "      <td>0</td>\n",
       "      <td>STON/O2. 3101282</td>\n",
       "      <td>7.9250</td>\n",
       "      <td>NaN</td>\n",
       "      <td>S</td>\n",
       "    </tr>\n",
       "    <tr>\n",
       "      <th>3</th>\n",
       "      <td>4</td>\n",
       "      <td>1</td>\n",
       "      <td>1</td>\n",
       "      <td>Futrelle, Mrs. Jacques Heath (Lily May Peel)</td>\n",
       "      <td>female</td>\n",
       "      <td>35.0</td>\n",
       "      <td>1</td>\n",
       "      <td>0</td>\n",
       "      <td>113803</td>\n",
       "      <td>53.1000</td>\n",
       "      <td>C123</td>\n",
       "      <td>S</td>\n",
       "    </tr>\n",
       "    <tr>\n",
       "      <th>4</th>\n",
       "      <td>5</td>\n",
       "      <td>0</td>\n",
       "      <td>3</td>\n",
       "      <td>Allen, Mr. William Henry</td>\n",
       "      <td>male</td>\n",
       "      <td>35.0</td>\n",
       "      <td>0</td>\n",
       "      <td>0</td>\n",
       "      <td>373450</td>\n",
       "      <td>8.0500</td>\n",
       "      <td>NaN</td>\n",
       "      <td>S</td>\n",
       "    </tr>\n",
       "    <tr>\n",
       "      <th>5</th>\n",
       "      <td>6</td>\n",
       "      <td>0</td>\n",
       "      <td>3</td>\n",
       "      <td>Moran, Mr. James</td>\n",
       "      <td>male</td>\n",
       "      <td>NaN</td>\n",
       "      <td>0</td>\n",
       "      <td>0</td>\n",
       "      <td>330877</td>\n",
       "      <td>8.4583</td>\n",
       "      <td>NaN</td>\n",
       "      <td>Q</td>\n",
       "    </tr>\n",
       "    <tr>\n",
       "      <th>6</th>\n",
       "      <td>7</td>\n",
       "      <td>0</td>\n",
       "      <td>1</td>\n",
       "      <td>McCarthy, Mr. Timothy J</td>\n",
       "      <td>male</td>\n",
       "      <td>54.0</td>\n",
       "      <td>0</td>\n",
       "      <td>0</td>\n",
       "      <td>17463</td>\n",
       "      <td>51.8625</td>\n",
       "      <td>E46</td>\n",
       "      <td>S</td>\n",
       "    </tr>\n",
       "    <tr>\n",
       "      <th>7</th>\n",
       "      <td>8</td>\n",
       "      <td>0</td>\n",
       "      <td>3</td>\n",
       "      <td>Palsson, Master. Gosta Leonard</td>\n",
       "      <td>male</td>\n",
       "      <td>2.0</td>\n",
       "      <td>3</td>\n",
       "      <td>1</td>\n",
       "      <td>349909</td>\n",
       "      <td>21.0750</td>\n",
       "      <td>NaN</td>\n",
       "      <td>S</td>\n",
       "    </tr>\n",
       "    <tr>\n",
       "      <th>8</th>\n",
       "      <td>9</td>\n",
       "      <td>1</td>\n",
       "      <td>3</td>\n",
       "      <td>Johnson, Mrs. Oscar W (Elisabeth Vilhelmina Berg)</td>\n",
       "      <td>female</td>\n",
       "      <td>27.0</td>\n",
       "      <td>0</td>\n",
       "      <td>2</td>\n",
       "      <td>347742</td>\n",
       "      <td>11.1333</td>\n",
       "      <td>NaN</td>\n",
       "      <td>S</td>\n",
       "    </tr>\n",
       "    <tr>\n",
       "      <th>9</th>\n",
       "      <td>10</td>\n",
       "      <td>1</td>\n",
       "      <td>2</td>\n",
       "      <td>Nasser, Mrs. Nicholas (Adele Achem)</td>\n",
       "      <td>female</td>\n",
       "      <td>14.0</td>\n",
       "      <td>1</td>\n",
       "      <td>0</td>\n",
       "      <td>237736</td>\n",
       "      <td>30.0708</td>\n",
       "      <td>NaN</td>\n",
       "      <td>C</td>\n",
       "    </tr>\n",
       "  </tbody>\n",
       "</table>\n",
       "</div>"
      ],
      "text/plain": [
       "   PassengerId  Survived  Pclass  \\\n",
       "0            1         0       3   \n",
       "1            2         1       1   \n",
       "2            3         1       3   \n",
       "3            4         1       1   \n",
       "4            5         0       3   \n",
       "5            6         0       3   \n",
       "6            7         0       1   \n",
       "7            8         0       3   \n",
       "8            9         1       3   \n",
       "9           10         1       2   \n",
       "\n",
       "                                                Name     Sex   Age  SibSp  \\\n",
       "0                            Braund, Mr. Owen Harris    male  22.0      1   \n",
       "1  Cumings, Mrs. John Bradley (Florence Briggs Th...  female  38.0      1   \n",
       "2                             Heikkinen, Miss. Laina  female  26.0      0   \n",
       "3       Futrelle, Mrs. Jacques Heath (Lily May Peel)  female  35.0      1   \n",
       "4                           Allen, Mr. William Henry    male  35.0      0   \n",
       "5                                   Moran, Mr. James    male   NaN      0   \n",
       "6                            McCarthy, Mr. Timothy J    male  54.0      0   \n",
       "7                     Palsson, Master. Gosta Leonard    male   2.0      3   \n",
       "8  Johnson, Mrs. Oscar W (Elisabeth Vilhelmina Berg)  female  27.0      0   \n",
       "9                Nasser, Mrs. Nicholas (Adele Achem)  female  14.0      1   \n",
       "\n",
       "   Parch            Ticket     Fare Cabin Embarked  \n",
       "0      0         A/5 21171   7.2500   NaN        S  \n",
       "1      0          PC 17599  71.2833   C85        C  \n",
       "2      0  STON/O2. 3101282   7.9250   NaN        S  \n",
       "3      0            113803  53.1000  C123        S  \n",
       "4      0            373450   8.0500   NaN        S  \n",
       "5      0            330877   8.4583   NaN        Q  \n",
       "6      0             17463  51.8625   E46        S  \n",
       "7      1            349909  21.0750   NaN        S  \n",
       "8      2            347742  11.1333   NaN        S  \n",
       "9      0            237736  30.0708   NaN        C  "
      ]
     },
     "execution_count": 3,
     "metadata": {},
     "output_type": "execute_result"
    }
   ],
   "source": [
    "my_data = pd.read_csv('/kaggle/input/titanic/train.csv')\n",
    "my_data.head(10)\n"
   ]
  },
  {
   "cell_type": "markdown",
   "metadata": {
    "papermill": {
     "duration": 0.027006,
     "end_time": "2020-10-13T09:46:39.977579",
     "exception": false,
     "start_time": "2020-10-13T09:46:39.950573",
     "status": "completed"
    },
    "tags": []
   },
   "source": [
    "**3. Check our data for data-gaps:**"
   ]
  },
  {
   "cell_type": "code",
   "execution_count": 4,
   "metadata": {
    "execution": {
     "iopub.execute_input": "2020-10-13T09:46:40.034576Z",
     "iopub.status.busy": "2020-10-13T09:46:40.033405Z",
     "iopub.status.idle": "2020-10-13T09:46:40.038848Z",
     "shell.execute_reply": "2020-10-13T09:46:40.038086Z"
    },
    "papermill": {
     "duration": 0.038083,
     "end_time": "2020-10-13T09:46:40.038978",
     "exception": false,
     "start_time": "2020-10-13T09:46:40.000895",
     "status": "completed"
    },
    "tags": []
   },
   "outputs": [
    {
     "data": {
      "text/plain": [
       "PassengerId    891\n",
       "Survived       891\n",
       "Pclass         891\n",
       "Name           891\n",
       "Sex            891\n",
       "Age            714\n",
       "SibSp          891\n",
       "Parch          891\n",
       "Ticket         891\n",
       "Fare           891\n",
       "Cabin          204\n",
       "Embarked       889\n",
       "dtype: int64"
      ]
     },
     "execution_count": 4,
     "metadata": {},
     "output_type": "execute_result"
    }
   ],
   "source": [
    "my_data.count()"
   ]
  },
  {
   "cell_type": "markdown",
   "metadata": {
    "papermill": {
     "duration": 0.02331,
     "end_time": "2020-10-13T09:46:40.085799",
     "exception": false,
     "start_time": "2020-10-13T09:46:40.062489",
     "status": "completed"
    },
    "tags": []
   },
   "source": [
    "**4. We have 2 different arrays (train and test):**"
   ]
  },
  {
   "cell_type": "code",
   "execution_count": 5,
   "metadata": {
    "execution": {
     "iopub.execute_input": "2020-10-13T09:46:40.140132Z",
     "iopub.status.busy": "2020-10-13T09:46:40.139036Z",
     "iopub.status.idle": "2020-10-13T09:46:40.157192Z",
     "shell.execute_reply": "2020-10-13T09:46:40.156376Z"
    },
    "papermill": {
     "duration": 0.047911,
     "end_time": "2020-10-13T09:46:40.157327",
     "exception": false,
     "start_time": "2020-10-13T09:46:40.109416",
     "status": "completed"
    },
    "tags": []
   },
   "outputs": [],
   "source": [
    "train_df = pd.read_csv('/kaggle/input/titanic/train.csv')\n",
    "test_df = pd.read_csv('/kaggle/input/titanic/test.csv')"
   ]
  },
  {
   "cell_type": "markdown",
   "metadata": {
    "papermill": {
     "duration": 0.023388,
     "end_time": "2020-10-13T09:46:40.204513",
     "exception": false,
     "start_time": "2020-10-13T09:46:40.181125",
     "status": "completed"
    },
    "tags": []
   },
   "source": [
    " 5. Let's choose the most significant parameters for the classifier that can affect the passenger's survival. We can discard the rest. For example, it is important:\n",
    "* Accommodation of a passenger (more chances to survive)\n",
    "* Gender (affects physical strength - more likely to survive)\n",
    "* Couples on board (affects survival)\n",
    "* Having children on board (also affects survival)\n",
    " \n",
    " The rest of the factors can have less or no influence, so we discard them when substituting independent variables into our function X."
   ]
  },
  {
   "cell_type": "code",
   "execution_count": 6,
   "metadata": {
    "execution": {
     "iopub.execute_input": "2020-10-13T09:46:40.263601Z",
     "iopub.status.busy": "2020-10-13T09:46:40.262527Z",
     "iopub.status.idle": "2020-10-13T09:46:40.267715Z",
     "shell.execute_reply": "2020-10-13T09:46:40.267057Z"
    },
    "papermill": {
     "duration": 0.03963,
     "end_time": "2020-10-13T09:46:40.267866",
     "exception": false,
     "start_time": "2020-10-13T09:46:40.228236",
     "status": "completed"
    },
    "tags": []
   },
   "outputs": [
    {
     "data": {
      "text/plain": [
       "array([[3, 'male', 22.0, 1, 0],\n",
       "       [1, 'female', 38.0, 1, 0],\n",
       "       [3, 'female', 26.0, 0, 0],\n",
       "       [1, 'female', 35.0, 1, 0],\n",
       "       [3, 'male', 35.0, 0, 0]], dtype=object)"
      ]
     },
     "execution_count": 6,
     "metadata": {},
     "output_type": "execute_result"
    }
   ],
   "source": [
    "X = train_df[['Pclass', 'Sex', 'Age', 'SibSp', 'Parch']].values\n",
    "X[0:5]"
   ]
  },
  {
   "cell_type": "code",
   "execution_count": 7,
   "metadata": {
    "execution": {
     "iopub.execute_input": "2020-10-13T09:46:40.325973Z",
     "iopub.status.busy": "2020-10-13T09:46:40.324881Z",
     "iopub.status.idle": "2020-10-13T09:46:40.329673Z",
     "shell.execute_reply": "2020-10-13T09:46:40.328956Z"
    },
    "papermill": {
     "duration": 0.037713,
     "end_time": "2020-10-13T09:46:40.329822",
     "exception": false,
     "start_time": "2020-10-13T09:46:40.292109",
     "status": "completed"
    },
    "tags": []
   },
   "outputs": [
    {
     "data": {
      "text/plain": [
       "array([[3, 'male', 22.0, 1, 0],\n",
       "       [1, 'female', 38.0, 1, 0],\n",
       "       [3, 'female', 26.0, 0, 0],\n",
       "       [1, 'female', 35.0, 1, 0],\n",
       "       [3, 'male', 35.0, 0, 0]], dtype=object)"
      ]
     },
     "execution_count": 7,
     "metadata": {},
     "output_type": "execute_result"
    }
   ],
   "source": [
    "X_test = test_df[['Pclass', 'Sex', 'Age', 'SibSp', 'Parch']].values\n",
    "X[0:5]"
   ]
  },
  {
   "cell_type": "markdown",
   "metadata": {
    "papermill": {
     "duration": 0.024485,
     "end_time": "2020-10-13T09:46:40.378990",
     "exception": false,
     "start_time": "2020-10-13T09:46:40.354505",
     "status": "completed"
    },
    "tags": []
   },
   "source": [
    "**6. We have categorical axes (Gender), change its value to binary (1 or 0), turn male in \"1\", female in \"0\"**"
   ]
  },
  {
   "cell_type": "code",
   "execution_count": 8,
   "metadata": {
    "execution": {
     "iopub.execute_input": "2020-10-13T09:46:40.438467Z",
     "iopub.status.busy": "2020-10-13T09:46:40.437412Z",
     "iopub.status.idle": "2020-10-13T09:46:40.442555Z",
     "shell.execute_reply": "2020-10-13T09:46:40.441828Z"
    },
    "papermill": {
     "duration": 0.038807,
     "end_time": "2020-10-13T09:46:40.442676",
     "exception": false,
     "start_time": "2020-10-13T09:46:40.403869",
     "status": "completed"
    },
    "tags": []
   },
   "outputs": [
    {
     "data": {
      "text/plain": [
       "array([[3, 1, 22.0, 1, 0],\n",
       "       [1, 0, 38.0, 1, 0],\n",
       "       [3, 0, 26.0, 0, 0],\n",
       "       [1, 0, 35.0, 1, 0],\n",
       "       [3, 1, 35.0, 0, 0]], dtype=object)"
      ]
     },
     "execution_count": 8,
     "metadata": {},
     "output_type": "execute_result"
    }
   ],
   "source": [
    "from sklearn import preprocessing\n",
    "sex = preprocessing.LabelEncoder()\n",
    "sex.fit(['female','male'])\n",
    "X[:,1] = sex.transform(X[:,1]) \n",
    "X[0:5]\n"
   ]
  },
  {
   "cell_type": "markdown",
   "metadata": {
    "papermill": {
     "duration": 0.024871,
     "end_time": "2020-10-13T09:46:40.492968",
     "exception": false,
     "start_time": "2020-10-13T09:46:40.468097",
     "status": "completed"
    },
    "tags": []
   },
   "source": [
    "* **6.1. And the same for test dataset:**"
   ]
  },
  {
   "cell_type": "code",
   "execution_count": 9,
   "metadata": {
    "execution": {
     "iopub.execute_input": "2020-10-13T09:46:40.551954Z",
     "iopub.status.busy": "2020-10-13T09:46:40.550895Z",
     "iopub.status.idle": "2020-10-13T09:46:40.556094Z",
     "shell.execute_reply": "2020-10-13T09:46:40.555458Z"
    },
    "papermill": {
     "duration": 0.038,
     "end_time": "2020-10-13T09:46:40.556289",
     "exception": false,
     "start_time": "2020-10-13T09:46:40.518289",
     "status": "completed"
    },
    "tags": []
   },
   "outputs": [
    {
     "data": {
      "text/plain": [
       "array([[3, 1, 34.5, 0, 0],\n",
       "       [3, 0, 47.0, 1, 0],\n",
       "       [2, 1, 62.0, 0, 0],\n",
       "       [3, 1, 27.0, 0, 0],\n",
       "       [3, 0, 22.0, 1, 1]], dtype=object)"
      ]
     },
     "execution_count": 9,
     "metadata": {},
     "output_type": "execute_result"
    }
   ],
   "source": [
    "X_test[:,1] = sex.transform(X_test[:,1]) \n",
    "X_test[0:5]"
   ]
  },
  {
   "cell_type": "markdown",
   "metadata": {
    "papermill": {
     "duration": 0.025584,
     "end_time": "2020-10-13T09:46:40.607806",
     "exception": false,
     "start_time": "2020-10-13T09:46:40.582222",
     "status": "completed"
    },
    "tags": []
   },
   "source": [
    "**7. Now fill the target variable Y:**"
   ]
  },
  {
   "cell_type": "code",
   "execution_count": 10,
   "metadata": {
    "execution": {
     "iopub.execute_input": "2020-10-13T09:46:40.670560Z",
     "iopub.status.busy": "2020-10-13T09:46:40.669420Z",
     "iopub.status.idle": "2020-10-13T09:46:40.673824Z",
     "shell.execute_reply": "2020-10-13T09:46:40.674428Z"
    },
    "papermill": {
     "duration": 0.038431,
     "end_time": "2020-10-13T09:46:40.674588",
     "exception": false,
     "start_time": "2020-10-13T09:46:40.636157",
     "status": "completed"
    },
    "tags": []
   },
   "outputs": [
    {
     "data": {
      "text/plain": [
       "0    0\n",
       "1    1\n",
       "2    1\n",
       "3    1\n",
       "4    0\n",
       "Name: Survived, dtype: int64"
      ]
     },
     "execution_count": 10,
     "metadata": {},
     "output_type": "execute_result"
    }
   ],
   "source": [
    "y_train = train_df[\"Survived\"]\n",
    "y_train [0:5]"
   ]
  },
  {
   "cell_type": "markdown",
   "metadata": {
    "papermill": {
     "duration": 0.026288,
     "end_time": "2020-10-13T09:46:40.728197",
     "exception": false,
     "start_time": "2020-10-13T09:46:40.701909",
     "status": "completed"
    },
    "tags": []
   },
   "source": [
    "**8. Then count and fill missing values:**"
   ]
  },
  {
   "cell_type": "code",
   "execution_count": 11,
   "metadata": {
    "execution": {
     "iopub.execute_input": "2020-10-13T09:46:40.789442Z",
     "iopub.status.busy": "2020-10-13T09:46:40.788630Z",
     "iopub.status.idle": "2020-10-13T09:46:40.816008Z",
     "shell.execute_reply": "2020-10-13T09:46:40.814947Z"
    },
    "papermill": {
     "duration": 0.061433,
     "end_time": "2020-10-13T09:46:40.816194",
     "exception": false,
     "start_time": "2020-10-13T09:46:40.754761",
     "status": "completed"
    },
    "tags": []
   },
   "outputs": [
    {
     "name": "stdout",
     "output_type": "stream",
     "text": [
      "Age         177\n",
      "Cabin       687\n",
      "Embarked      2\n",
      "dtype: int64\n"
     ]
    }
   ],
   "source": [
    "missing_val_count_by_column = (train_df.isnull().sum())\n",
    "print(missing_val_count_by_column[missing_val_count_by_column > 0])"
   ]
  },
  {
   "cell_type": "markdown",
   "metadata": {
    "papermill": {
     "duration": 0.026914,
     "end_time": "2020-10-13T09:46:40.871583",
     "exception": false,
     "start_time": "2020-10-13T09:46:40.844669",
     "status": "completed"
    },
    "tags": []
   },
   "source": [
    "**9. We have troubles with \"Age\" (missing values, NaNs). So use inmuter:**"
   ]
  },
  {
   "cell_type": "code",
   "execution_count": 12,
   "metadata": {
    "execution": {
     "iopub.execute_input": "2020-10-13T09:46:40.932487Z",
     "iopub.status.busy": "2020-10-13T09:46:40.931638Z",
     "iopub.status.idle": "2020-10-13T09:46:40.945473Z",
     "shell.execute_reply": "2020-10-13T09:46:40.944500Z"
    },
    "papermill": {
     "duration": 0.046665,
     "end_time": "2020-10-13T09:46:40.945615",
     "exception": false,
     "start_time": "2020-10-13T09:46:40.898950",
     "status": "completed"
    },
    "tags": []
   },
   "outputs": [],
   "source": [
    "from sklearn.impute import SimpleImputer\n",
    "my_imputer = SimpleImputer()\n",
    "X_clean = my_imputer.fit_transform(X)\n",
    "X_test_clean = my_imputer.fit_transform(X_test)"
   ]
  },
  {
   "cell_type": "markdown",
   "metadata": {
    "papermill": {
     "duration": 0.027985,
     "end_time": "2020-10-13T09:46:41.001618",
     "exception": false,
     "start_time": "2020-10-13T09:46:40.973633",
     "status": "completed"
    },
    "tags": []
   },
   "source": [
    "**10. At last we make train our model with \"clean\" data and than make predictions on the testing dataset and store it into a variable called \"Y_pred\"**"
   ]
  },
  {
   "cell_type": "code",
   "execution_count": 13,
   "metadata": {
    "execution": {
     "iopub.execute_input": "2020-10-13T09:46:41.067616Z",
     "iopub.status.busy": "2020-10-13T09:46:41.065505Z",
     "iopub.status.idle": "2020-10-13T09:46:41.073598Z",
     "shell.execute_reply": "2020-10-13T09:46:41.072851Z"
    },
    "papermill": {
     "duration": 0.04186,
     "end_time": "2020-10-13T09:46:41.073768",
     "exception": false,
     "start_time": "2020-10-13T09:46:41.031908",
     "status": "completed"
    },
    "tags": []
   },
   "outputs": [],
   "source": [
    "decision_tree = DecisionTreeClassifier()\n",
    "decision_tree.fit(X_clean, y_train)\n",
    "Y_pred = decision_tree.predict(X_test_clean)"
   ]
  },
  {
   "cell_type": "markdown",
   "metadata": {
    "papermill": {
     "duration": 0.028792,
     "end_time": "2020-10-13T09:46:41.131266",
     "exception": false,
     "start_time": "2020-10-13T09:46:41.102474",
     "status": "completed"
    },
    "tags": []
   },
   "source": [
    "**11. We calculate the accurancy of our model:**"
   ]
  },
  {
   "cell_type": "code",
   "execution_count": 14,
   "metadata": {
    "execution": {
     "iopub.execute_input": "2020-10-13T09:46:41.193433Z",
     "iopub.status.busy": "2020-10-13T09:46:41.192514Z",
     "iopub.status.idle": "2020-10-13T09:46:41.198991Z",
     "shell.execute_reply": "2020-10-13T09:46:41.198319Z"
    },
    "papermill": {
     "duration": 0.040141,
     "end_time": "2020-10-13T09:46:41.199127",
     "exception": false,
     "start_time": "2020-10-13T09:46:41.158986",
     "status": "completed"
    },
    "tags": []
   },
   "outputs": [
    {
     "data": {
      "text/plain": [
       "0.920314253647587"
      ]
     },
     "execution_count": 14,
     "metadata": {},
     "output_type": "execute_result"
    }
   ],
   "source": [
    "acc_decision_tree = decision_tree.score(X_clean, y_train)\n",
    "acc_decision_tree"
   ]
  },
  {
   "cell_type": "markdown",
   "metadata": {
    "papermill": {
     "duration": 0.027839,
     "end_time": "2020-10-13T09:46:41.255631",
     "exception": false,
     "start_time": "2020-10-13T09:46:41.227792",
     "status": "completed"
    },
    "tags": []
   },
   "source": [
    "**12. Final, generate the output of our data:**"
   ]
  },
  {
   "cell_type": "code",
   "execution_count": 15,
   "metadata": {
    "execution": {
     "iopub.execute_input": "2020-10-13T09:46:41.321519Z",
     "iopub.status.busy": "2020-10-13T09:46:41.320359Z",
     "iopub.status.idle": "2020-10-13T09:46:41.724905Z",
     "shell.execute_reply": "2020-10-13T09:46:41.724085Z"
    },
    "papermill": {
     "duration": 0.441253,
     "end_time": "2020-10-13T09:46:41.725043",
     "exception": false,
     "start_time": "2020-10-13T09:46:41.283790",
     "status": "completed"
    },
    "tags": []
   },
   "outputs": [],
   "source": [
    "test_df [\"Survived\"] = Y_pred\n",
    "new = test_df [['PassengerId','Survived']]\n",
    "new.to_csv('pred.csv',index=False)"
   ]
  },
  {
   "cell_type": "markdown",
   "metadata": {
    "papermill": {
     "duration": 0.028036,
     "end_time": "2020-10-13T09:46:41.781475",
     "exception": false,
     "start_time": "2020-10-13T09:46:41.753439",
     "status": "completed"
    },
    "tags": []
   },
   "source": []
  },
  {
   "cell_type": "markdown",
   "metadata": {
    "papermill": {
     "duration": 0.028135,
     "end_time": "2020-10-13T09:46:41.838631",
     "exception": false,
     "start_time": "2020-10-13T09:46:41.810496",
     "status": "completed"
    },
    "tags": []
   },
   "source": []
  },
  {
   "cell_type": "code",
   "execution_count": null,
   "metadata": {
    "_cell_guid": "79c7e3d0-c299-4dcb-8224-4455121ee9b0",
    "_uuid": "d629ff2d2480ee46fbb7e2d37f6b5fab8052498a",
    "papermill": {
     "duration": 0.028968,
     "end_time": "2020-10-13T09:46:41.898423",
     "exception": false,
     "start_time": "2020-10-13T09:46:41.869455",
     "status": "completed"
    },
    "tags": []
   },
   "outputs": [],
   "source": []
  }
 ],
 "metadata": {
  "kernelspec": {
   "display_name": "Python 3",
   "language": "python",
   "name": "python3"
  },
  "language_info": {
   "codemirror_mode": {
    "name": "ipython",
    "version": 3
   },
   "file_extension": ".py",
   "mimetype": "text/x-python",
   "name": "python",
   "nbconvert_exporter": "python",
   "pygments_lexer": "ipython3",
   "version": "3.7.6"
  },
  "papermill": {
   "duration": 10.095597,
   "end_time": "2020-10-13T09:46:43.003061",
   "environment_variables": {},
   "exception": null,
   "input_path": "__notebook__.ipynb",
   "output_path": "__notebook__.ipynb",
   "parameters": {},
   "start_time": "2020-10-13T09:46:32.907464",
   "version": "2.1.0"
  }
 },
 "nbformat": 4,
 "nbformat_minor": 4
}
